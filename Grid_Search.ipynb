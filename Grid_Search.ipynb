{
  "nbformat": 4,
  "nbformat_minor": 0,
  "metadata": {
    "colab": {
      "name": "Grid Search.ipynb",
      "provenance": [],
      "authorship_tag": "ABX9TyPfv13YEunYGbJhNyZj57w6",
      "include_colab_link": true
    },
    "kernelspec": {
      "name": "python3",
      "display_name": "Python 3"
    },
    "language_info": {
      "name": "python"
    }
  },
  "cells": [
    {
      "cell_type": "markdown",
      "metadata": {
        "id": "view-in-github",
        "colab_type": "text"
      },
      "source": [
        "<a href=\"https://colab.research.google.com/github/marcos-code/Machine-Learning/blob/main/Grid_Search.ipynb\" target=\"_parent\"><img src=\"https://colab.research.google.com/assets/colab-badge.svg\" alt=\"Open In Colab\"/></a>"
      ]
    },
    {
      "cell_type": "markdown",
      "metadata": {
        "id": "m7TW60J3yLLy"
      },
      "source": [
        "# Grid Search"
      ]
    },
    {
      "cell_type": "code",
      "metadata": {
        "id": "btmm9Ocgx1ra"
      },
      "source": [
        "# importando os pacotes necessários\n",
        "import pandas as pd\n",
        "import matplotlib.pyplot as plt\n",
        "from sklearn.model_selection import train_test_split\n",
        "from sklearn.preprocessing import StandardScaler\n",
        "from sklearn.metrics import classification_report\n",
        "from sklearn.metrics import confusion_matrix\n",
        "from sklearn.metrics import classification_report\n",
        "import numpy as np\n",
        "\n",
        "# garatir a replicalidade\n",
        "np.random.seed(42)\n",
        "\n",
        "# importar o arquivo\n",
        "df = pd.read_csv(\"http://dl.dropboxusercontent.com/s/6d91j46mkcdj4qv/heart-disease-clean.csv?dl=1\")\n"
      ],
      "execution_count": 3,
      "outputs": []
    },
    {
      "cell_type": "code",
      "metadata": {
        "colab": {
          "base_uri": "https://localhost:8080/"
        },
        "id": "8Py3239VzlE2",
        "outputId": "e32c3ba6-546c-4e37-af50-31d458e382ea"
      },
      "source": [
        "# 1. Escolher e importar um modelo\n",
        "from sklearn.linear_model import LogisticRegression\n",
        "from sklearn.model_selection import GridSearchCV\n",
        "\n",
        "# 2. Instanciar e escolher os hyperparameters\n",
        "model = LogisticRegression()\n",
        "\n",
        "# 3. Separar os dados entre feature matrix e target vector\n",
        "X = df.drop('num', axis=1)\n",
        "y = df['num']\n",
        "\n",
        "# 3.1 Dividir o dataset entre treino e teste\n",
        "X_train, X_test, y_train, y_test = train_test_split(X,y)\n",
        "\n",
        "# 3.2 Padronizar os dados de treino\n",
        "scaler = StandardScaler().fit(X_train)\n",
        "X_train_transformed = scaler.transform(X_train)\n",
        "\n",
        "# 4. Grid Serach\n",
        "parameters = {\n",
        "    'C': [0.001,0.01,0.1,1,10,100,1000],\n",
        "    }\n",
        "clf = GridSearchCV(model,parameters)\n",
        "clf.fit(X_train_transformed, y_train)\n",
        "\n"
      ],
      "execution_count": 7,
      "outputs": [
        {
          "output_type": "execute_result",
          "data": {
            "text/plain": [
              "GridSearchCV(cv=None, error_score=nan,\n",
              "             estimator=LogisticRegression(C=1.0, class_weight=None, dual=False,\n",
              "                                          fit_intercept=True,\n",
              "                                          intercept_scaling=1, l1_ratio=None,\n",
              "                                          max_iter=100, multi_class='auto',\n",
              "                                          n_jobs=None, penalty='l2',\n",
              "                                          random_state=None, solver='lbfgs',\n",
              "                                          tol=0.0001, verbose=0,\n",
              "                                          warm_start=False),\n",
              "             iid='deprecated', n_jobs=None,\n",
              "             param_grid={'C': [0.001, 0.01, 0.1, 1, 10, 100, 1000]},\n",
              "             pre_dispatch='2*n_jobs', refit=True, return_train_score=False,\n",
              "             scoring=None, verbose=0)"
            ]
          },
          "metadata": {
            "tags": []
          },
          "execution_count": 7
        }
      ]
    },
    {
      "cell_type": "code",
      "metadata": {
        "colab": {
          "base_uri": "https://localhost:8080/"
        },
        "id": "pu0lRmfM1Xfw",
        "outputId": "6713709b-6a82-447a-91ca-935c3011536c"
      },
      "source": [
        "# ver o melhor parametro\n",
        "print(clf.best_params_)"
      ],
      "execution_count": 8,
      "outputs": [
        {
          "output_type": "stream",
          "text": [
            "{'C': 0.01}\n"
          ],
          "name": "stdout"
        }
      ]
    },
    {
      "cell_type": "code",
      "metadata": {
        "colab": {
          "base_uri": "https://localhost:8080/"
        },
        "id": "w-BZ9-jK1lzO",
        "outputId": "32e1d4f9-ef6e-49cd-edaa-c614555c564f"
      },
      "source": [
        "print(\"Melhor: {} usando {}\".format(clf.best_score_, clf.best_params_))"
      ],
      "execution_count": 9,
      "outputs": [
        {
          "output_type": "stream",
          "text": [
            "Melhor: 0.8365217391304348 usando {'C': 0.01}\n"
          ],
          "name": "stdout"
        }
      ]
    },
    {
      "cell_type": "code",
      "metadata": {
        "colab": {
          "base_uri": "https://localhost:8080/"
        },
        "id": "ELIIA4B32DRc",
        "outputId": "0f1e4ab0-0908-44e8-e69b-4accc6a2a802"
      },
      "source": [
        "# ver todosparametros testados\n",
        "means = clf.cv_results_['mean_test_score']\n",
        "stds = clf.cv_results_['std_test_score']\n",
        "\n",
        "for mean, std, params in zip(means, stds, clf.cv_results_['params']):\n",
        "        print(\"%0.3f(+/-%0.3f) for%r\"\n",
        "                %(mean, std * 2, params))"
      ],
      "execution_count": 12,
      "outputs": [
        {
          "output_type": "stream",
          "text": [
            "0.705(+/-0.083) for{'C': 0.001}\n",
            "0.837(+/-0.148) for{'C': 0.01}\n",
            "0.828(+/-0.131) for{'C': 0.1}\n",
            "0.810(+/-0.119) for{'C': 1}\n",
            "0.819(+/-0.131) for{'C': 10}\n",
            "0.819(+/-0.131) for{'C': 100}\n",
            "0.819(+/-0.131) for{'C': 1000}\n"
          ],
          "name": "stdout"
        }
      ]
    },
    {
      "cell_type": "code",
      "metadata": {
        "colab": {
          "base_uri": "https://localhost:8080/"
        },
        "id": "Bvzhi5OQ2yDo",
        "outputId": "3f626a40-d0a7-4e19-849c-25e87f838ee3"
      },
      "source": [
        "# resultados armazenados\n",
        "clf.cv_results_"
      ],
      "execution_count": 13,
      "outputs": [
        {
          "output_type": "execute_result",
          "data": {
            "text/plain": [
              "{'mean_fit_time': array([0.0058115 , 0.00354533, 0.00356898, 0.00418568, 0.00378075,\n",
              "        0.00393143, 0.00430555]),\n",
              " 'mean_score_time': array([0.00069427, 0.00050297, 0.00052462, 0.0005115 , 0.00045691,\n",
              "        0.00046778, 0.00059485]),\n",
              " 'mean_test_score': array([0.7047343 , 0.83652174, 0.82782609, 0.81024155, 0.8189372 ,\n",
              "        0.8189372 , 0.8189372 ]),\n",
              " 'param_C': masked_array(data=[0.001, 0.01, 0.1, 1, 10, 100, 1000],\n",
              "              mask=[False, False, False, False, False, False, False],\n",
              "        fill_value='?',\n",
              "             dtype=object),\n",
              " 'params': [{'C': 0.001},\n",
              "  {'C': 0.01},\n",
              "  {'C': 0.1},\n",
              "  {'C': 1},\n",
              "  {'C': 10},\n",
              "  {'C': 100},\n",
              "  {'C': 1000}],\n",
              " 'rank_test_score': array([7, 1, 2, 6, 3, 3, 3], dtype=int32),\n",
              " 'split0_test_score': array([0.67391304, 0.82608696, 0.82608696, 0.80434783, 0.82608696,\n",
              "        0.82608696, 0.82608696]),\n",
              " 'split1_test_score': array([0.76086957, 0.95652174, 0.91304348, 0.89130435, 0.91304348,\n",
              "        0.91304348, 0.91304348]),\n",
              " 'split2_test_score': array([0.71111111, 0.73333333, 0.71111111, 0.71111111, 0.71111111,\n",
              "        0.71111111, 0.71111111]),\n",
              " 'split3_test_score': array([0.73333333, 0.86666667, 0.84444444, 0.8       , 0.8       ,\n",
              "        0.8       , 0.8       ]),\n",
              " 'split4_test_score': array([0.64444444, 0.8       , 0.84444444, 0.84444444, 0.84444444,\n",
              "        0.84444444, 0.84444444]),\n",
              " 'std_fit_time': array([0.00335004, 0.00026889, 0.00022077, 0.00054742, 0.00019413,\n",
              "        0.00025841, 0.00062313]),\n",
              " 'std_score_time': array([2.55198685e-04, 4.09623935e-05, 7.15069111e-05, 7.83683864e-05,\n",
              "        1.77890299e-05, 2.15523011e-05, 2.29313612e-04]),\n",
              " 'std_test_score': array([0.04145975, 0.07402606, 0.06548245, 0.05951048, 0.06563964,\n",
              "        0.06563964, 0.06563964])}"
            ]
          },
          "metadata": {
            "tags": []
          },
          "execution_count": 13
        }
      ]
    },
    {
      "cell_type": "code",
      "metadata": {
        "id": "FrcSO52b3AC6"
      },
      "source": [
        ""
      ],
      "execution_count": null,
      "outputs": []
    }
  ]
}