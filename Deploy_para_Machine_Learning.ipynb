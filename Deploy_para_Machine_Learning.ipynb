{
  "nbformat": 4,
  "nbformat_minor": 0,
  "metadata": {
    "colab": {
      "name": "Deploy para Machine Learning.ipynb",
      "provenance": [],
      "authorship_tag": "ABX9TyMPZKxe/0vrD/Z3e3tx6GSg",
      "include_colab_link": true
    },
    "kernelspec": {
      "name": "python3",
      "display_name": "Python 3"
    },
    "language_info": {
      "name": "python"
    }
  },
  "cells": [
    {
      "cell_type": "markdown",
      "metadata": {
        "id": "view-in-github",
        "colab_type": "text"
      },
      "source": [
        "<a href=\"https://colab.research.google.com/github/marcos-code/Machine-Learning/blob/main/Deploy_para_Machine_Learning.ipynb\" target=\"_parent\"><img src=\"https://colab.research.google.com/assets/colab-badge.svg\" alt=\"Open In Colab\"/></a>"
      ]
    },
    {
      "cell_type": "markdown",
      "metadata": {
        "id": "cSZ111TPFB9O"
      },
      "source": [
        "# Preço de Imóveis em São Paulo\n",
        "\n",
        "Neste módulo, iremos treinar um modelo para fazer a previsão do preço de venda de apartamentos na cidade de São Paulo e usar esse modelo para alimentar uma aplicação web mediante *deploy*.\n",
        "\n",
        "Como o objetivo é focar na construção do *webapp* e em como subir uma aplicação, a etapa da análise exploratória será suprimida (feita anteriormente por mim).\n",
        "\n",
        "Como identifiquei as colunas desnecessárias e redundantes, irei direto ao ponto do treinamento, visando mostrar principalmente como exportar e importar o modelo com a biblioteca `joblib`."
      ]
    },
    {
      "cell_type": "markdown",
      "metadata": {
        "id": "T_zCeMGYFJBK"
      },
      "source": [
        "## Dados de Imóveis\n",
        "\n",
        "Os dados usados aqui foram obtidos [neste link](https://www.kaggle.com/argonalyst/sao-paulo-real-estate-sale-rent-april-2019), e foram disponibilizados publicamente pela startup OpenImob.\n",
        "\n",
        "Para facilitar seu projeto, disponibilizei o arquivo `csv` [neste link](https://www.dropbox.com/s/h8blgaphkfpqsn5/sao-paulo-properties-april-2019.csv?dl=1)."
      ]
    },
    {
      "cell_type": "markdown",
      "metadata": {
        "id": "7Ek_Kp9_FNpB"
      },
      "source": [
        "## Análise e Tratamento dos Dados\n",
        "\n",
        "Os dados originais contém 13.640 entradas e 16 colunas, sendo a coluna `Price` a nossa variável alvo."
      ]
    },
    {
      "cell_type": "code",
      "metadata": {
        "colab": {
          "base_uri": "https://localhost:8080/",
          "height": 393
        },
        "id": "LuLF4ARnEkBI",
        "outputId": "38b765cc-ff0b-4661-a9e8-68e4f513d16a"
      },
      "source": [
        "# importar os pacotes necessários\n",
        "import pandas as pd\n",
        "import numpy as np\n",
        "import matplotlib.pyplot as plt\n",
        "from sklearn.ensemble import RandomForestRegressor\n",
        "from sklearn.model_selection import train_test_split\n",
        "from sklearn.metrics import r2_score, mean_squared_error, mean_absolute_error\n",
        "\n",
        "import warnings\n",
        "warnings.simplefilter(action='ignore', category=FutureWarning)\n",
        "\n",
        "# Importar o dataset para um dataframe\n",
        "url_dataset = \"https://www.dropbox.com/s/h8blgaphkfpqsn5/sao-paulo-properties-april-2019.csv?dl=1\"\n",
        "df = pd.read_csv(url_dataset)\n",
        "\n",
        "# ver as 5 primeiras entradas\n",
        "display(df.head())\n"
      ],
      "execution_count": 2,
      "outputs": [
        {
          "output_type": "display_data",
          "data": {
            "text/html": [
              "<div>\n",
              "<style scoped>\n",
              "    .dataframe tbody tr th:only-of-type {\n",
              "        vertical-align: middle;\n",
              "    }\n",
              "\n",
              "    .dataframe tbody tr th {\n",
              "        vertical-align: top;\n",
              "    }\n",
              "\n",
              "    .dataframe thead th {\n",
              "        text-align: right;\n",
              "    }\n",
              "</style>\n",
              "<table border=\"1\" class=\"dataframe\">\n",
              "  <thead>\n",
              "    <tr style=\"text-align: right;\">\n",
              "      <th></th>\n",
              "      <th>Price</th>\n",
              "      <th>Condo</th>\n",
              "      <th>Size</th>\n",
              "      <th>Rooms</th>\n",
              "      <th>Toilets</th>\n",
              "      <th>Suites</th>\n",
              "      <th>Parking</th>\n",
              "      <th>Elevator</th>\n",
              "      <th>Furnished</th>\n",
              "      <th>Swimming Pool</th>\n",
              "      <th>New</th>\n",
              "      <th>District</th>\n",
              "      <th>Negotiation Type</th>\n",
              "      <th>Property Type</th>\n",
              "      <th>Latitude</th>\n",
              "      <th>Longitude</th>\n",
              "    </tr>\n",
              "  </thead>\n",
              "  <tbody>\n",
              "    <tr>\n",
              "      <th>0</th>\n",
              "      <td>930</td>\n",
              "      <td>220</td>\n",
              "      <td>47</td>\n",
              "      <td>2</td>\n",
              "      <td>2</td>\n",
              "      <td>1</td>\n",
              "      <td>1</td>\n",
              "      <td>0</td>\n",
              "      <td>0</td>\n",
              "      <td>0</td>\n",
              "      <td>0</td>\n",
              "      <td>Artur Alvim/São Paulo</td>\n",
              "      <td>rent</td>\n",
              "      <td>apartment</td>\n",
              "      <td>-23.543138</td>\n",
              "      <td>-46.479486</td>\n",
              "    </tr>\n",
              "    <tr>\n",
              "      <th>1</th>\n",
              "      <td>1000</td>\n",
              "      <td>148</td>\n",
              "      <td>45</td>\n",
              "      <td>2</td>\n",
              "      <td>2</td>\n",
              "      <td>1</td>\n",
              "      <td>1</td>\n",
              "      <td>0</td>\n",
              "      <td>0</td>\n",
              "      <td>0</td>\n",
              "      <td>0</td>\n",
              "      <td>Artur Alvim/São Paulo</td>\n",
              "      <td>rent</td>\n",
              "      <td>apartment</td>\n",
              "      <td>-23.550239</td>\n",
              "      <td>-46.480718</td>\n",
              "    </tr>\n",
              "    <tr>\n",
              "      <th>2</th>\n",
              "      <td>1000</td>\n",
              "      <td>100</td>\n",
              "      <td>48</td>\n",
              "      <td>2</td>\n",
              "      <td>2</td>\n",
              "      <td>1</td>\n",
              "      <td>1</td>\n",
              "      <td>0</td>\n",
              "      <td>0</td>\n",
              "      <td>0</td>\n",
              "      <td>0</td>\n",
              "      <td>Artur Alvim/São Paulo</td>\n",
              "      <td>rent</td>\n",
              "      <td>apartment</td>\n",
              "      <td>-23.542818</td>\n",
              "      <td>-46.485665</td>\n",
              "    </tr>\n",
              "    <tr>\n",
              "      <th>3</th>\n",
              "      <td>1000</td>\n",
              "      <td>200</td>\n",
              "      <td>48</td>\n",
              "      <td>2</td>\n",
              "      <td>2</td>\n",
              "      <td>1</td>\n",
              "      <td>1</td>\n",
              "      <td>0</td>\n",
              "      <td>0</td>\n",
              "      <td>0</td>\n",
              "      <td>0</td>\n",
              "      <td>Artur Alvim/São Paulo</td>\n",
              "      <td>rent</td>\n",
              "      <td>apartment</td>\n",
              "      <td>-23.547171</td>\n",
              "      <td>-46.483014</td>\n",
              "    </tr>\n",
              "    <tr>\n",
              "      <th>4</th>\n",
              "      <td>1300</td>\n",
              "      <td>410</td>\n",
              "      <td>55</td>\n",
              "      <td>2</td>\n",
              "      <td>2</td>\n",
              "      <td>1</td>\n",
              "      <td>1</td>\n",
              "      <td>1</td>\n",
              "      <td>0</td>\n",
              "      <td>0</td>\n",
              "      <td>0</td>\n",
              "      <td>Artur Alvim/São Paulo</td>\n",
              "      <td>rent</td>\n",
              "      <td>apartment</td>\n",
              "      <td>-23.525025</td>\n",
              "      <td>-46.482436</td>\n",
              "    </tr>\n",
              "  </tbody>\n",
              "</table>\n",
              "</div>"
            ],
            "text/plain": [
              "   Price  Condo  Size  ...  Property Type   Latitude  Longitude\n",
              "0    930    220    47  ...      apartment -23.543138 -46.479486\n",
              "1   1000    148    45  ...      apartment -23.550239 -46.480718\n",
              "2   1000    100    48  ...      apartment -23.542818 -46.485665\n",
              "3   1000    200    48  ...      apartment -23.547171 -46.483014\n",
              "4   1300    410    55  ...      apartment -23.525025 -46.482436\n",
              "\n",
              "[5 rows x 16 columns]"
            ]
          },
          "metadata": {
            "tags": []
          }
        }
      ]
    },
    {
      "cell_type": "markdown",
      "metadata": {
        "id": "i8btfcW7H4hN"
      },
      "source": [
        "Se você também reparar acima, os nomes dos bairros tinham uma informação desnecessária para este *dataset* específico, acrescentando a *string* `\"/São Paulo\"` ao final de cada nome. Usando `df_clean['District'].apply(lambda x: x.split('/')[0]` eu simplesmente removi essa informação e deixei mais limpa a coluna.\n",
        "Se você explorar melhor esse dataset vai ver que ele contempla duas situações: aluguel ou venda."
      ]
    },
    {
      "cell_type": "code",
      "metadata": {
        "colab": {
          "base_uri": "https://localhost:8080/",
          "height": 306
        },
        "id": "CC3ayVTYHhpz",
        "outputId": "1bd3ca5a-8f73-4a48-87a8-ba67bde15910"
      },
      "source": [
        "df_clean = df.copy()\n",
        "\n",
        "#Limpar os nomes dos bairros\n",
        "df_clean['District'] = df_clean['District'].apply(lambda x: x.split('/')[0])\n",
        "\n",
        "# ver as 5 primeiras entradas\n",
        "df_clean.head()"
      ],
      "execution_count": 4,
      "outputs": [
        {
          "output_type": "execute_result",
          "data": {
            "text/html": [
              "<div>\n",
              "<style scoped>\n",
              "    .dataframe tbody tr th:only-of-type {\n",
              "        vertical-align: middle;\n",
              "    }\n",
              "\n",
              "    .dataframe tbody tr th {\n",
              "        vertical-align: top;\n",
              "    }\n",
              "\n",
              "    .dataframe thead th {\n",
              "        text-align: right;\n",
              "    }\n",
              "</style>\n",
              "<table border=\"1\" class=\"dataframe\">\n",
              "  <thead>\n",
              "    <tr style=\"text-align: right;\">\n",
              "      <th></th>\n",
              "      <th>Price</th>\n",
              "      <th>Condo</th>\n",
              "      <th>Size</th>\n",
              "      <th>Rooms</th>\n",
              "      <th>Toilets</th>\n",
              "      <th>Suites</th>\n",
              "      <th>Parking</th>\n",
              "      <th>Elevator</th>\n",
              "      <th>Furnished</th>\n",
              "      <th>Swimming Pool</th>\n",
              "      <th>New</th>\n",
              "      <th>District</th>\n",
              "      <th>Negotiation Type</th>\n",
              "      <th>Property Type</th>\n",
              "      <th>Latitude</th>\n",
              "      <th>Longitude</th>\n",
              "    </tr>\n",
              "  </thead>\n",
              "  <tbody>\n",
              "    <tr>\n",
              "      <th>0</th>\n",
              "      <td>930</td>\n",
              "      <td>220</td>\n",
              "      <td>47</td>\n",
              "      <td>2</td>\n",
              "      <td>2</td>\n",
              "      <td>1</td>\n",
              "      <td>1</td>\n",
              "      <td>0</td>\n",
              "      <td>0</td>\n",
              "      <td>0</td>\n",
              "      <td>0</td>\n",
              "      <td>Artur Alvim</td>\n",
              "      <td>rent</td>\n",
              "      <td>apartment</td>\n",
              "      <td>-23.543138</td>\n",
              "      <td>-46.479486</td>\n",
              "    </tr>\n",
              "    <tr>\n",
              "      <th>1</th>\n",
              "      <td>1000</td>\n",
              "      <td>148</td>\n",
              "      <td>45</td>\n",
              "      <td>2</td>\n",
              "      <td>2</td>\n",
              "      <td>1</td>\n",
              "      <td>1</td>\n",
              "      <td>0</td>\n",
              "      <td>0</td>\n",
              "      <td>0</td>\n",
              "      <td>0</td>\n",
              "      <td>Artur Alvim</td>\n",
              "      <td>rent</td>\n",
              "      <td>apartment</td>\n",
              "      <td>-23.550239</td>\n",
              "      <td>-46.480718</td>\n",
              "    </tr>\n",
              "    <tr>\n",
              "      <th>2</th>\n",
              "      <td>1000</td>\n",
              "      <td>100</td>\n",
              "      <td>48</td>\n",
              "      <td>2</td>\n",
              "      <td>2</td>\n",
              "      <td>1</td>\n",
              "      <td>1</td>\n",
              "      <td>0</td>\n",
              "      <td>0</td>\n",
              "      <td>0</td>\n",
              "      <td>0</td>\n",
              "      <td>Artur Alvim</td>\n",
              "      <td>rent</td>\n",
              "      <td>apartment</td>\n",
              "      <td>-23.542818</td>\n",
              "      <td>-46.485665</td>\n",
              "    </tr>\n",
              "    <tr>\n",
              "      <th>3</th>\n",
              "      <td>1000</td>\n",
              "      <td>200</td>\n",
              "      <td>48</td>\n",
              "      <td>2</td>\n",
              "      <td>2</td>\n",
              "      <td>1</td>\n",
              "      <td>1</td>\n",
              "      <td>0</td>\n",
              "      <td>0</td>\n",
              "      <td>0</td>\n",
              "      <td>0</td>\n",
              "      <td>Artur Alvim</td>\n",
              "      <td>rent</td>\n",
              "      <td>apartment</td>\n",
              "      <td>-23.547171</td>\n",
              "      <td>-46.483014</td>\n",
              "    </tr>\n",
              "    <tr>\n",
              "      <th>4</th>\n",
              "      <td>1300</td>\n",
              "      <td>410</td>\n",
              "      <td>55</td>\n",
              "      <td>2</td>\n",
              "      <td>2</td>\n",
              "      <td>1</td>\n",
              "      <td>1</td>\n",
              "      <td>1</td>\n",
              "      <td>0</td>\n",
              "      <td>0</td>\n",
              "      <td>0</td>\n",
              "      <td>Artur Alvim</td>\n",
              "      <td>rent</td>\n",
              "      <td>apartment</td>\n",
              "      <td>-23.525025</td>\n",
              "      <td>-46.482436</td>\n",
              "    </tr>\n",
              "  </tbody>\n",
              "</table>\n",
              "</div>"
            ],
            "text/plain": [
              "   Price  Condo  Size  ...  Property Type   Latitude  Longitude\n",
              "0    930    220    47  ...      apartment -23.543138 -46.479486\n",
              "1   1000    148    45  ...      apartment -23.550239 -46.480718\n",
              "2   1000    100    48  ...      apartment -23.542818 -46.485665\n",
              "3   1000    200    48  ...      apartment -23.547171 -46.483014\n",
              "4   1300    410    55  ...      apartment -23.525025 -46.482436\n",
              "\n",
              "[5 rows x 16 columns]"
            ]
          },
          "metadata": {
            "tags": []
          },
          "execution_count": 4
        }
      ]
    },
    {
      "cell_type": "markdown",
      "metadata": {
        "id": "Bf2iOVzxI0ML"
      },
      "source": [
        "# Modelo de Machine Learning\n",
        "Arbitrariamente, escolhi o modelo Random Forest para treinar meu modelo e observei três principais métricas de avaliação."
      ]
    },
    {
      "cell_type": "code",
      "metadata": {
        "colab": {
          "base_uri": "https://localhost:8080/"
        },
        "id": "qhu_cnA5JAa1",
        "outputId": "025fc68f-9084-432c-ee79-bf6e8f00cf02"
      },
      "source": [
        "# dummy variables\n",
        "df_clean = pd.get_dummies(df_clean)\n",
        "\n",
        "# separar entre variáveis X e y\n",
        "X_simp = df_clean.drop('Price', axis=1)\n",
        "y_simp = df_clean['Price']\n",
        "\n",
        "# split entre datasets de treino e teste\n",
        "X_train_simp, X_test_simp, y_train_simp, y_test_simp = train_test_split(X_simp, y_simp, test_size=0.33)\n",
        "\n",
        "# instanciar e treinar o modelo\n",
        "model = RandomForestRegressor(random_state=42)\n",
        "model.fit(X_train_simp, y_train_simp)\n",
        "\n",
        "# fazer as previsões em cima do dataset de teste\n",
        "y_pred_simp = model.predict(X_test_simp)\n",
        "\n",
        "# métricas de avaliação\n",
        "print(\"r2: \\t{:.4f}\".format(r2_score(y_test_simp, y_pred_simp)))\n",
        "print(\"MAE: \\t{:.4f}\".format(mean_absolute_error(y_test_simp, y_pred_simp)))\n",
        "print(\"MSE: \\t{:.4f}\".format(mean_squared_error(y_test_simp, y_pred_simp)))\n",
        "\n",
        "# Fazer as previsões em cima do dataset de teste\n",
        "y_pred_simp = model.predict(X_test_simp)\n",
        "\n",
        "#Métricas de avaliação\n",
        "print(\"r2: \\t{:.4f}\".format(r2_score(y_test_simp, y_pred_simp)))\n",
        "print(\"MAE: \\t{:.4f}\".format(mean_absolute_error(y_test_simp, y_pred_simp)))\n",
        "print(\"MSE: \\t{:.4f}\".format(mean_squared_error(y_test_simp, y_pred_simp)))"
      ],
      "execution_count": 5,
      "outputs": [
        {
          "output_type": "stream",
          "text": [
            "r2: \t0.9264\n",
            "MAE: \t49065.8356\n",
            "MSE: \t26092014308.0196\n",
            "r2: \t0.9264\n",
            "MAE: \t49065.8356\n",
            "MSE: \t26092014308.0196\n"
          ],
          "name": "stdout"
        }
      ]
    },
    {
      "cell_type": "markdown",
      "metadata": {
        "id": "9CUAKEW28oWR"
      },
      "source": [
        "#### Salvando o modelo\n",
        "\n",
        "O nosso modelo está treinado e é capaz de realizar previsões. No entanto, está \"preso\" ao *kernel* rodando dentro do Google Colab.\n",
        "\n",
        "Imagine precisar rodar todas as células novamente a cada vez que fosse fazer uma previsão. Seria inviável!\n",
        "\n",
        "Para conseguir exportar o modelo de *machine learning* (na verdade, isso pode ser feito com qualquer estrutura de dados) vou usar a biblioteca `joblib`."
      ]
    },
    {
      "cell_type": "code",
      "metadata": {
        "colab": {
          "base_uri": "https://localhost:8080/"
        },
        "id": "E_B2FFnwIteJ",
        "outputId": "17ea780c-5c43-450a-df63-359cc5d9875d"
      },
      "source": [
        "# Salvar o modelo em formato jobib\n",
        "from joblib import dump, load\n",
        "\n",
        "dump(model, 'model.joblib')\n"
      ],
      "execution_count": 6,
      "outputs": [
        {
          "output_type": "execute_result",
          "data": {
            "text/plain": [
              "['model.joblib']"
            ]
          },
          "metadata": {
            "tags": []
          },
          "execution_count": 6
        }
      ]
    },
    {
      "cell_type": "markdown",
      "metadata": {
        "id": "djoUcckc9WBO"
      },
      "source": [
        "Uma vez que você exporta o seu modelo, é extremamente importante que você também salve os nomes das features que esse modelo espera receber, e tem que ser na ordem exata que ele foi treinado.\n",
        "\n",
        "Da mesma maneira que fizemos com o modelo, salvei os nomes das variáveis em features_simples.names"
      ]
    },
    {
      "cell_type": "code",
      "metadata": {
        "colab": {
          "base_uri": "https://localhost:8080/"
        },
        "id": "-2m3A6399as_",
        "outputId": "c8112cfa-4a9e-4010-e1da-564e6e5f9a94"
      },
      "source": [
        "# Salvar os nomes das features do modelo simples\n",
        "features = X_train_simp.columns.values\n",
        "\n",
        "dump(features, 'features.names')\n"
      ],
      "execution_count": 7,
      "outputs": [
        {
          "output_type": "execute_result",
          "data": {
            "text/plain": [
              "['features.names']"
            ]
          },
          "metadata": {
            "tags": []
          },
          "execution_count": 7
        }
      ]
    },
    {
      "cell_type": "markdown",
      "metadata": {
        "id": "LwVFcuwu9-ub"
      },
      "source": [
        "#### Carregando o modelo\n",
        "\n",
        "Uma vez que você salvou o modelo em um arquivo, consegue carregar ele novamente usando o `pickle.load()`"
      ]
    },
    {
      "cell_type": "code",
      "metadata": {
        "id": "b8dk1Qcl9nW6"
      },
      "source": [
        "# importar modelo e feature names\n",
        "new_model = load('model.joblib')\n",
        "features = load('features.names')"
      ],
      "execution_count": 8,
      "outputs": []
    },
    {
      "cell_type": "code",
      "metadata": {
        "colab": {
          "base_uri": "https://localhost:8080/"
        },
        "id": "7htDbs81-MPU",
        "outputId": "d83a7beb-b468-403a-c19a-9abb1eb14cc7"
      },
      "source": [
        "# ver o tipo da nova variável\n",
        "type(new_model)"
      ],
      "execution_count": 9,
      "outputs": [
        {
          "output_type": "execute_result",
          "data": {
            "text/plain": [
              "sklearn.ensemble._forest.RandomForestRegressor"
            ]
          },
          "metadata": {
            "tags": []
          },
          "execution_count": 9
        }
      ]
    },
    {
      "cell_type": "code",
      "metadata": {
        "colab": {
          "base_uri": "https://localhost:8080/",
          "height": 35
        },
        "id": "NW5d1aqz-R3n",
        "outputId": "724fd87a-6912-4239-a920-99bb31d79109"
      },
      "source": [
        "import sklearn\n",
        "sklearn.__version__"
      ],
      "execution_count": 10,
      "outputs": [
        {
          "output_type": "execute_result",
          "data": {
            "application/vnd.google.colaboratory.intrinsic+json": {
              "type": "string"
            },
            "text/plain": [
              "'0.22.2.post1'"
            ]
          },
          "metadata": {
            "tags": []
          },
          "execution_count": 10
        }
      ]
    },
    {
      "cell_type": "code",
      "metadata": {
        "id": "KLTkGYz2-Y16"
      },
      "source": [
        ""
      ],
      "execution_count": null,
      "outputs": []
    }
  ]
}